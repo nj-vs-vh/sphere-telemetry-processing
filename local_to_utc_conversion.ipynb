{
 "metadata": {
  "language_info": {
   "codemirror_mode": {
    "name": "ipython",
    "version": 3
   },
   "file_extension": ".py",
   "mimetype": "text/x-python",
   "name": "python",
   "nbconvert_exporter": "python",
   "pygments_lexer": "ipython3",
   "version": "3.7.7-final"
  },
  "orig_nbformat": 2,
  "kernelspec": {
   "name": "python_defaultSpec_1600631968021",
   "display_name": "Python 3.7.7 64-bit ('base': conda)"
  }
 },
 "nbformat": 4,
 "nbformat_minor": 2,
 "cells": [
  {
   "cell_type": "code",
   "execution_count": 39,
   "metadata": {},
   "outputs": [],
   "source": [
    "from pymongo import MongoClient\n",
    "from tqdm import tqdm_notebook\n",
    "from datetime import time, datetime, timedelta\n",
    "import pandas as pd\n",
    "\n",
    "client = MongoClient()\n",
    "onboard_telemetry_collection = client.sphere_telemetry.from_onboard_logs"
   ]
  },
  {
   "cell_type": "code",
   "execution_count": 2,
   "metadata": {},
   "outputs": [],
   "source": [
    "def gps_stamp_to_timedelta(stamp: int) -> timedelta:\n",
    "\tstamp = str(stamp).rjust(6, '0')\n",
    "\treturn timedelta(hours=int(stamp[:2]), minutes=int(stamp[2:4]), seconds=int(stamp[4:]))"
   ]
  },
  {
   "cell_type": "code",
   "execution_count": 8,
   "metadata": {},
   "outputs": [],
   "source": [
    "utc_tolerance = timedelta(hours = 0, seconds=60)\n",
    "\n",
    "def gps_time_day_switch(utc_time, prev_utc_time) -> bool:\n",
    "    return utc_time < prev_utc_time - utc_tolerance"
   ]
  },
  {
   "cell_type": "code",
   "execution_count": 13,
   "metadata": {
    "tags": []
   },
   "outputs": [
    {
     "output_type": "display_data",
     "data": {
      "text/plain": "HBox(children=(FloatProgress(value=0.0, max=299250.0), HTML(value='')))",
      "application/vnd.jupyter.widget-view+json": {
       "version_major": 2,
       "version_minor": 0,
       "model_id": "d223d8c88f884a6a8c87d2a232c66ac7"
      }
     },
     "metadata": {}
    },
    {
     "output_type": "stream",
     "name": "stdout",
     "text": "\n132 day switches found\n"
    }
   ],
   "source": [
    "def write_header():\n",
    "    f.write(f'i,\"switch_type\",\"local_change\",\"local_delta\",\"utc_change\",\"utc_delta\",\"new_utc_stamp\"\\n')\n",
    "\n",
    "def write_row(local_flag, utc_flag):\n",
    "    if not (local_flag or utc_flag):\n",
    "        return False\n",
    "    if local_flag:\n",
    "        if utc_flag:\n",
    "            type_ = 'both'\n",
    "        else:\n",
    "            type_ = 'local'\n",
    "    else:\n",
    "        type_ = 'utc'\n",
    "    row = (\n",
    "        f'{row_count},{type_},\"{prev_local_dt} -> {local_dt}\",\"{local_dt - prev_local_dt}\",'\n",
    "        + f'\"{prev_utc_time} -> {utc_time}\",\"{utc_time-prev_utc_time}\",\"{utc_timestamp}\"'\n",
    "    )\n",
    "    f.write(row + '\\n')\n",
    "    return True\n",
    "\n",
    "\n",
    "query = {\"GPS_stamp\": {\"$exists\": True}}\n",
    "total = onboard_telemetry_collection.find(query).count()\n",
    "\n",
    "prev_local_dt = datetime.fromtimestamp(0)\n",
    "prev_utc_time = timedelta(hours=23, minutes=59, seconds=59)\n",
    "\n",
    "row_count = 0\n",
    "\n",
    "with open('day_switches.csv', 'w') as f:\n",
    "    write_header()\n",
    "    for doc in tqdm_notebook(\n",
    "        onboard_telemetry_collection.find(query).sort(\"local_dt\"),\n",
    "        total=total\n",
    "    ):\n",
    "        local_dt = doc['local_dt']\n",
    "        utc_timestamp = doc['GPS_stamp']\n",
    "        utc_time = gps_stamp_to_timedelta(utc_timestamp)\n",
    "        \n",
    "        utc_time_switch = gps_time_day_switch(utc_time, prev_utc_time)\n",
    "        if write_row(local_dt.day != prev_local_dt.day, utc_time_switch):\n",
    "            row_count += 1\n",
    "\n",
    "        prev_local_dt = local_dt\n",
    "        prev_utc_time = utc_time\n",
    "\n",
    "print(f'{switch_count} day switches found')\n"
   ]
  },
  {
   "source": [
    "Результат работы предыдущей ячейки выгружен [сюда](https://docs.google.com/spreadsheets/d/1wIniLV3XItgZoUVZ_wDRf4xhny8OmiRFmMkAfX3oLfE/edit#gid=1486757713&fvid=2114670170), вручную размечены правильные времена смены дат по UTC, далее первый лист из того же документа экспротирован в .csv и обрабатывается ниже."
   ],
   "cell_type": "markdown",
   "metadata": {}
  },
  {
   "cell_type": "code",
   "execution_count": 48,
   "metadata": {
    "tags": []
   },
   "outputs": [
    {
     "output_type": "stream",
     "name": "stdout",
     "text": "inserting UTC date 2010-03-18 00:00:00\n"
    },
    {
     "output_type": "display_data",
     "data": {
      "text/plain": "HBox(children=(FloatProgress(value=0.0, max=13975.0), HTML(value='')))",
      "application/vnd.jupyter.widget-view+json": {
       "version_major": 2,
       "version_minor": 0,
       "model_id": "6664cc418bd847b69f8e6987e8b91a9f"
      }
     },
     "metadata": {}
    },
    {
     "output_type": "stream",
     "name": "stdout",
     "text": "\ninserting UTC date 2010-03-19 00:00:00\n"
    },
    {
     "output_type": "display_data",
     "data": {
      "text/plain": "HBox(children=(FloatProgress(value=0.0, max=1660.0), HTML(value='')))",
      "application/vnd.jupyter.widget-view+json": {
       "version_major": 2,
       "version_minor": 0,
       "model_id": "9b09766d82724b2f9c6f15dcbd5bec05"
      }
     },
     "metadata": {}
    },
    {
     "output_type": "stream",
     "name": "stdout",
     "text": "\ninserting UTC date 2011-02-27 00:00:00\n"
    },
    {
     "output_type": "display_data",
     "data": {
      "text/plain": "HBox(children=(FloatProgress(value=0.0, max=6898.0), HTML(value='')))",
      "application/vnd.jupyter.widget-view+json": {
       "version_major": 2,
       "version_minor": 0,
       "model_id": "9b29d08ab1c344fc87cafddd07c1738c"
      }
     },
     "metadata": {}
    },
    {
     "output_type": "stream",
     "name": "stdout",
     "text": "\ninserting UTC date 2011-02-28 00:00:00\n"
    },
    {
     "output_type": "display_data",
     "data": {
      "text/plain": "HBox(children=(FloatProgress(value=0.0, max=1903.0), HTML(value='')))",
      "application/vnd.jupyter.widget-view+json": {
       "version_major": 2,
       "version_minor": 0,
       "model_id": "cb2684b33f9546faadd65913d92bf618"
      }
     },
     "metadata": {}
    },
    {
     "output_type": "stream",
     "name": "stdout",
     "text": "\ninserting UTC date 2011-03-01 00:00:00\n"
    },
    {
     "output_type": "display_data",
     "data": {
      "text/plain": "HBox(children=(FloatProgress(value=0.0, max=119.0), HTML(value='')))",
      "application/vnd.jupyter.widget-view+json": {
       "version_major": 2,
       "version_minor": 0,
       "model_id": "ad084cc1e4364886b28661982d5ec7f0"
      }
     },
     "metadata": {}
    },
    {
     "output_type": "stream",
     "name": "stdout",
     "text": "\ninserting UTC date 2011-03-02 00:00:00\n"
    },
    {
     "output_type": "display_data",
     "data": {
      "text/plain": "HBox(children=(FloatProgress(value=0.0, max=8677.0), HTML(value='')))",
      "application/vnd.jupyter.widget-view+json": {
       "version_major": 2,
       "version_minor": 0,
       "model_id": "0c9426eb90dc4b7c9de260086ea12a0f"
      }
     },
     "metadata": {}
    },
    {
     "output_type": "stream",
     "name": "stdout",
     "text": "\ninserting UTC date 2011-03-03 00:00:00\n"
    },
    {
     "output_type": "display_data",
     "data": {
      "text/plain": "HBox(children=(FloatProgress(value=0.0, max=10725.0), HTML(value='')))",
      "application/vnd.jupyter.widget-view+json": {
       "version_major": 2,
       "version_minor": 0,
       "model_id": "2a3a9428d00245e8845b820c31165db2"
      }
     },
     "metadata": {}
    },
    {
     "output_type": "stream",
     "name": "stdout",
     "text": "\ninserting UTC date 2011-03-04 00:00:00\n"
    },
    {
     "output_type": "display_data",
     "data": {
      "text/plain": "HBox(children=(FloatProgress(value=0.0, max=162.0), HTML(value='')))",
      "application/vnd.jupyter.widget-view+json": {
       "version_major": 2,
       "version_minor": 0,
       "model_id": "9ba1bbf4fbe4486a9a236a16fa68e38d"
      }
     },
     "metadata": {}
    },
    {
     "output_type": "stream",
     "name": "stdout",
     "text": "\ninserting UTC date 2011-03-05 00:00:00\n"
    },
    {
     "output_type": "display_data",
     "data": {
      "text/plain": "HBox(children=(FloatProgress(value=0.0, max=21431.0), HTML(value='')))",
      "application/vnd.jupyter.widget-view+json": {
       "version_major": 2,
       "version_minor": 0,
       "model_id": "be0a2ae1dc0f4eeb8b7a3a53d24c4ecc"
      }
     },
     "metadata": {}
    },
    {
     "output_type": "stream",
     "name": "stdout",
     "text": "\ninserting UTC date 2011-03-06 00:00:00\n"
    },
    {
     "output_type": "display_data",
     "data": {
      "text/plain": "HBox(children=(FloatProgress(value=0.0, max=15351.0), HTML(value='')))",
      "application/vnd.jupyter.widget-view+json": {
       "version_major": 2,
       "version_minor": 0,
       "model_id": "ecc57f1b9ad441dbae224a115bd64e93"
      }
     },
     "metadata": {}
    },
    {
     "output_type": "stream",
     "name": "stdout",
     "text": "\ninserting UTC date 2011-03-07 00:00:00\n"
    },
    {
     "output_type": "display_data",
     "data": {
      "text/plain": "HBox(children=(FloatProgress(value=0.0, max=13550.0), HTML(value='')))",
      "application/vnd.jupyter.widget-view+json": {
       "version_major": 2,
       "version_minor": 0,
       "model_id": "3e406b3736234c4a8aa4080607685794"
      }
     },
     "metadata": {}
    },
    {
     "output_type": "stream",
     "name": "stdout",
     "text": "\ninserting UTC date 2011-03-08 00:00:00\n"
    },
    {
     "output_type": "display_data",
     "data": {
      "text/plain": "HBox(children=(FloatProgress(value=0.0, max=7172.0), HTML(value='')))",
      "application/vnd.jupyter.widget-view+json": {
       "version_major": 2,
       "version_minor": 0,
       "model_id": "7ddb3b7912924f00b849833201e1211b"
      }
     },
     "metadata": {}
    },
    {
     "output_type": "stream",
     "name": "stdout",
     "text": "\ninserting UTC date 2012-03-10 00:00:00\n"
    },
    {
     "output_type": "display_data",
     "data": {
      "text/plain": "HBox(children=(FloatProgress(value=0.0, max=130.0), HTML(value='')))",
      "application/vnd.jupyter.widget-view+json": {
       "version_major": 2,
       "version_minor": 0,
       "model_id": "384def7db9c84660a4a630b372df69e6"
      }
     },
     "metadata": {}
    },
    {
     "output_type": "stream",
     "name": "stdout",
     "text": "\ninserting UTC date 2012-03-11 00:00:00\n"
    },
    {
     "output_type": "display_data",
     "data": {
      "text/plain": "HBox(children=(FloatProgress(value=0.0, max=244.0), HTML(value='')))",
      "application/vnd.jupyter.widget-view+json": {
       "version_major": 2,
       "version_minor": 0,
       "model_id": "1298ab69e1894f1eb62b323edf6bdfad"
      }
     },
     "metadata": {}
    },
    {
     "output_type": "stream",
     "name": "stdout",
     "text": "\ninserting UTC date 2012-03-12 00:00:00\n"
    },
    {
     "output_type": "display_data",
     "data": {
      "text/plain": "HBox(children=(FloatProgress(value=0.0, max=1992.0), HTML(value='')))",
      "application/vnd.jupyter.widget-view+json": {
       "version_major": 2,
       "version_minor": 0,
       "model_id": "f7ef181f052642f9ad42c5b1ef08e90a"
      }
     },
     "metadata": {}
    },
    {
     "output_type": "stream",
     "name": "stdout",
     "text": "\ninserting UTC date 2012-03-13 00:00:00\n"
    },
    {
     "output_type": "display_data",
     "data": {
      "text/plain": "HBox(children=(FloatProgress(value=0.0, max=7404.0), HTML(value='')))",
      "application/vnd.jupyter.widget-view+json": {
       "version_major": 2,
       "version_minor": 0,
       "model_id": "77def9d605a84e2ea9e771c5534087c8"
      }
     },
     "metadata": {}
    },
    {
     "output_type": "stream",
     "name": "stdout",
     "text": "\ninserting UTC date 2012-03-14 00:00:00\n"
    },
    {
     "output_type": "display_data",
     "data": {
      "text/plain": "HBox(children=(FloatProgress(value=0.0, max=2592.0), HTML(value='')))",
      "application/vnd.jupyter.widget-view+json": {
       "version_major": 2,
       "version_minor": 0,
       "model_id": "e5beaac189e94a00b723b8a83a657a90"
      }
     },
     "metadata": {}
    },
    {
     "output_type": "stream",
     "name": "stdout",
     "text": "\ninserting UTC date 2012-03-19 00:00:00\n"
    },
    {
     "output_type": "display_data",
     "data": {
      "text/plain": "HBox(children=(FloatProgress(value=0.0, max=4312.0), HTML(value='')))",
      "application/vnd.jupyter.widget-view+json": {
       "version_major": 2,
       "version_minor": 0,
       "model_id": "327187e471704e43a653f2bf60d327dd"
      }
     },
     "metadata": {}
    },
    {
     "output_type": "stream",
     "name": "stdout",
     "text": "\ninserting UTC date 2012-03-24 00:00:00\n"
    },
    {
     "output_type": "display_data",
     "data": {
      "text/plain": "HBox(children=(FloatProgress(value=0.0, max=3261.0), HTML(value='')))",
      "application/vnd.jupyter.widget-view+json": {
       "version_major": 2,
       "version_minor": 0,
       "model_id": "326c0c46ab104b7c822afe4d1cfd63af"
      }
     },
     "metadata": {}
    },
    {
     "output_type": "stream",
     "name": "stdout",
     "text": "\ninserting UTC date 2012-03-25 00:00:00\n"
    },
    {
     "output_type": "display_data",
     "data": {
      "text/plain": "HBox(children=(FloatProgress(value=0.0, max=26333.0), HTML(value='')))",
      "application/vnd.jupyter.widget-view+json": {
       "version_major": 2,
       "version_minor": 0,
       "model_id": "7c81d2d2531b40b297c772cd5214cd55"
      }
     },
     "metadata": {}
    },
    {
     "output_type": "stream",
     "name": "stdout",
     "text": "\ninserting UTC date 2012-03-26 00:00:00\n"
    },
    {
     "output_type": "display_data",
     "data": {
      "text/plain": "HBox(children=(FloatProgress(value=0.0, max=16186.0), HTML(value='')))",
      "application/vnd.jupyter.widget-view+json": {
       "version_major": 2,
       "version_minor": 0,
       "model_id": "1e487b39a6744bc3a5e67c0313343a41"
      }
     },
     "metadata": {}
    },
    {
     "output_type": "stream",
     "name": "stdout",
     "text": "\ninserting UTC date 2013-02-16 00:00:00\n"
    },
    {
     "output_type": "display_data",
     "data": {
      "text/plain": "HBox(children=(FloatProgress(value=0.0, max=140.0), HTML(value='')))",
      "application/vnd.jupyter.widget-view+json": {
       "version_major": 2,
       "version_minor": 0,
       "model_id": "ee610c63187f49128b4e7e4d29bd2f0d"
      }
     },
     "metadata": {}
    },
    {
     "output_type": "stream",
     "name": "stdout",
     "text": "\ninserting UTC date 2013-02-17 00:00:00\n"
    },
    {
     "output_type": "display_data",
     "data": {
      "text/plain": "HBox(children=(FloatProgress(value=0.0, max=197.0), HTML(value='')))",
      "application/vnd.jupyter.widget-view+json": {
       "version_major": 2,
       "version_minor": 0,
       "model_id": "c370d2be5f344fd1827c5681331536ef"
      }
     },
     "metadata": {}
    },
    {
     "output_type": "stream",
     "name": "stdout",
     "text": "\ninserting UTC date 2013-02-18 00:00:00\n"
    },
    {
     "output_type": "display_data",
     "data": {
      "text/plain": "HBox(children=(FloatProgress(value=0.0, max=1915.0), HTML(value='')))",
      "application/vnd.jupyter.widget-view+json": {
       "version_major": 2,
       "version_minor": 0,
       "model_id": "b53c55ee55fe47f08d1fb5fc03a54b88"
      }
     },
     "metadata": {}
    },
    {
     "output_type": "stream",
     "name": "stdout",
     "text": "\ninserting UTC date 2013-02-19 00:00:00\n"
    },
    {
     "output_type": "display_data",
     "data": {
      "text/plain": "HBox(children=(FloatProgress(value=0.0, max=774.0), HTML(value='')))",
      "application/vnd.jupyter.widget-view+json": {
       "version_major": 2,
       "version_minor": 0,
       "model_id": "0bf074f60f444104b9fdbc653064c3c0"
      }
     },
     "metadata": {}
    },
    {
     "output_type": "stream",
     "name": "stdout",
     "text": "\ninserting UTC date 2013-03-09 00:00:00\n"
    },
    {
     "output_type": "display_data",
     "data": {
      "text/plain": "HBox(children=(FloatProgress(value=0.0, max=8197.0), HTML(value='')))",
      "application/vnd.jupyter.widget-view+json": {
       "version_major": 2,
       "version_minor": 0,
       "model_id": "6d10da44c4614bcf99daf571e910604f"
      }
     },
     "metadata": {}
    },
    {
     "output_type": "stream",
     "name": "stdout",
     "text": "\ninserting UTC date 2013-03-10 00:00:00\n"
    },
    {
     "output_type": "display_data",
     "data": {
      "text/plain": "HBox(children=(FloatProgress(value=0.0, max=25419.0), HTML(value='')))",
      "application/vnd.jupyter.widget-view+json": {
       "version_major": 2,
       "version_minor": 0,
       "model_id": "7034cf0f07b648859af2514083f44ccd"
      }
     },
     "metadata": {}
    },
    {
     "output_type": "stream",
     "name": "stdout",
     "text": "\ninserting UTC date 2013-03-11 00:00:00\n"
    },
    {
     "output_type": "display_data",
     "data": {
      "text/plain": "HBox(children=(FloatProgress(value=0.0, max=16080.0), HTML(value='')))",
      "application/vnd.jupyter.widget-view+json": {
       "version_major": 2,
       "version_minor": 0,
       "model_id": "6e187fb7275042a79498a64d6e3d1107"
      }
     },
     "metadata": {}
    },
    {
     "output_type": "stream",
     "name": "stdout",
     "text": "\ninserting UTC date 2013-03-12 00:00:00\n"
    },
    {
     "output_type": "display_data",
     "data": {
      "text/plain": "HBox(children=(FloatProgress(value=0.0, max=24935.0), HTML(value='')))",
      "application/vnd.jupyter.widget-view+json": {
       "version_major": 2,
       "version_minor": 0,
       "model_id": "1ac939ba72fc45e99a90e36050e5e530"
      }
     },
     "metadata": {}
    },
    {
     "output_type": "stream",
     "name": "stdout",
     "text": "\ninserting UTC date 2013-03-13 00:00:00\n"
    },
    {
     "output_type": "display_data",
     "data": {
      "text/plain": "HBox(children=(FloatProgress(value=0.0, max=19961.0), HTML(value='')))",
      "application/vnd.jupyter.widget-view+json": {
       "version_major": 2,
       "version_minor": 0,
       "model_id": "4661ba846f4640ee8c71405bbf1bd671"
      }
     },
     "metadata": {}
    },
    {
     "output_type": "stream",
     "name": "stdout",
     "text": "\ninserting UTC date 2013-03-14 00:00:00\n"
    },
    {
     "output_type": "display_data",
     "data": {
      "text/plain": "HBox(children=(FloatProgress(value=0.0, max=15494.0), HTML(value='')))",
      "application/vnd.jupyter.widget-view+json": {
       "version_major": 2,
       "version_minor": 0,
       "model_id": "2cd8ce1b4ef34a6299193c3632996ad4"
      }
     },
     "metadata": {}
    },
    {
     "output_type": "stream",
     "name": "stdout",
     "text": "\ninserting UTC date 2013-03-15 00:00:00\n"
    },
    {
     "output_type": "display_data",
     "data": {
      "text/plain": "HBox(children=(FloatProgress(value=0.0, max=15632.0), HTML(value='')))",
      "application/vnd.jupyter.widget-view+json": {
       "version_major": 2,
       "version_minor": 0,
       "model_id": "45fd696aab2942d78799abd076d703ce"
      }
     },
     "metadata": {}
    },
    {
     "output_type": "stream",
     "name": "stdout",
     "text": "\ninserting UTC date 2013-03-16 00:00:00\n"
    },
    {
     "output_type": "display_data",
     "data": {
      "text/plain": "HBox(children=(FloatProgress(value=0.0, max=6429.0), HTML(value='')))",
      "application/vnd.jupyter.widget-view+json": {
       "version_major": 2,
       "version_minor": 0,
       "model_id": "2734eb0574d5453a8f68d03899b0612e"
      }
     },
     "metadata": {}
    },
    {
     "output_type": "stream",
     "name": "stdout",
     "text": "\n"
    }
   ],
   "source": [
    "df = pd.read_csv('data\\\\utc-dates-restored.csv')\n",
    "df_dict = df.to_dict('list')\n",
    "switch_local_dt = [datetime.strptime(dt_str, r'%Y-%m-%d %X') for dt_str in df_dict['local_dt']]\n",
    "new_utc_date = df_dict['new utc date']\n",
    "\n",
    "for idx, (start_ldt, end_ldt) in enumerate(\n",
    "    zip(switch_local_dt, [*switch_local_dt[1:], datetime.now()])\n",
    "):\n",
    "    utc_dt_base = datetime.strptime(new_utc_date[idx], r'%Y-%m-%d')\n",
    "    print(f'inserting UTC date {utc_dt_base}')\n",
    "\n",
    "    utc_date_query = {\"GPS_stamp\": {\"$exists\": True}, \"local_dt\": {\"$gte\": start_ldt, \"$lt\": end_ldt}}\n",
    "\n",
    "    total = onboard_telemetry_collection.find(utc_date_query).count()\n",
    "    for doc in tqdm_notebook(\n",
    "        onboard_telemetry_collection.find(utc_date_query),\n",
    "        total=total\n",
    "    ):\n",
    "        utc_dt = utc_dt_base + gps_stamp_to_timedelta(doc['GPS_stamp'])\n",
    "        onboard_telemetry_collection.update_one(\n",
    "            filter={\"local_dt\": doc[\"local_dt\"]},\n",
    "            update={\"$set\": {\"utc_dt\": utc_dt}}\n",
    "        )"
   ]
  },
  {
   "cell_type": "code",
   "execution_count": 32,
   "metadata": {
    "tags": []
   },
   "outputs": [
    {
     "output_type": "execute_result",
     "data": {
      "text/plain": "datetime.datetime(2010, 3, 18, 0, 0)"
     },
     "metadata": {},
     "execution_count": 32
    }
   ],
   "source": [
    "datetime.strptime('2010-03-18', r'%Y-%m-%d')"
   ]
  }
 ]
}