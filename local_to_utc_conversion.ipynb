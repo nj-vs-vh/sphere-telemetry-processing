{
 "metadata": {
  "language_info": {
   "codemirror_mode": {
    "name": "ipython",
    "version": 3
   },
   "file_extension": ".py",
   "mimetype": "text/x-python",
   "name": "python",
   "nbconvert_exporter": "python",
   "pygments_lexer": "ipython3",
   "version": "3.7.7-final"
  },
  "orig_nbformat": 2,
  "kernelspec": {
   "name": "python_defaultSpec_1600464394495",
   "display_name": "Python 3.7.7 64-bit ('base': conda)"
  }
 },
 "nbformat": 4,
 "nbformat_minor": 2,
 "cells": [
  {
   "cell_type": "code",
   "execution_count": 63,
   "metadata": {},
   "outputs": [],
   "source": [
    "from pymongo import MongoClient\n",
    "from tqdm import tqdm_notebook\n",
    "from datetime import time, datetime, timedelta\n",
    "\n",
    "client = MongoClient()\n",
    "onboard_telemetry_collection = client.sphere_telemetry.onboard"
   ]
  },
  {
   "cell_type": "code",
   "execution_count": 67,
   "metadata": {},
   "outputs": [],
   "source": [
    "def gps_stamp_to_timedelta(stamp: int) -> timedelta:\n",
    "\tstamp = str(stamp).rjust(6, '0')\n",
    "\treturn timedelta(hours=int(stamp[:2]), minutes=int(stamp[2:4]), seconds=int(stamp[4:]))"
   ]
  },
  {
   "cell_type": "code",
   "execution_count": 69,
   "metadata": {
    "tags": []
   },
   "outputs": [
    {
     "output_type": "display_data",
     "data": {
      "text/plain": "HBox(children=(FloatProgress(value=0.0, max=299250.0), HTML(value='')))",
      "application/vnd.jupyter.widget-view+json": {
       "version_major": 2,
       "version_minor": 0,
       "model_id": "de91736529c34f599e2f9b1ff1a0a871"
      }
     },
     "metadata": {}
    },
    {
     "output_type": "stream",
     "name": "stdout",
     "text": "\n"
    }
   ],
   "source": [
    "def write_day_changes():\n",
    "    f.write(f'\\tlocal dt: {prev_local_dt} -> {local_dt}\\n')\n",
    "    f.write(f'\\tutc time: {prev_utc_time} -> {utc_time}\\n\\n')\n",
    "\n",
    "\n",
    "query = {\"GPS_stamp\": {\"$exists\": True}}\n",
    "total = onboard_telemetry_collection.find(query).count()\n",
    "\n",
    "prev_local_dt = datetime.fromtimestamp(0)\n",
    "prev_utc_time = timedelta(hours=23, minutes=59, seconds=59)\n",
    "\n",
    "utc_tolerance = timedelta(seconds=10)\n",
    "\n",
    "with open('day_switches.txt', 'w') as f:\n",
    "    for doc in tqdm_notebook(\n",
    "        onboard_telemetry_collection.find(query).sort(\"local_dt\"),\n",
    "        total=total\n",
    "    ):\n",
    "        local_dt = doc['local_dt']\n",
    "        utc_time = gps_stamp_to_timedelta(doc['GPS_stamp'])\n",
    "        \n",
    "        if (local_dt.day != prev_local_dt.day) or (utc_time < prev_utc_time - utc_tolerance):\n",
    "            if local_dt.day != prev_local_dt.day:\n",
    "                f.write(f'Local date switch!\\n')\n",
    "            if utc_time < prev_utc_time:\n",
    "                f.write(f'UTC time switch!\\n')\n",
    "            write_day_changes()\n",
    "\n",
    "        prev_local_dt = local_dt\n",
    "        prev_utc_time = utc_time\n"
   ]
  },
  {
   "cell_type": "code",
   "execution_count": 61,
   "metadata": {},
   "outputs": [
    {
     "output_type": "execute_result",
     "data": {
      "text/plain": "datetime.timedelta(seconds=5963, microseconds=59059)"
     },
     "metadata": {},
     "execution_count": 61
    }
   ],
   "source": []
  }
 ]
}