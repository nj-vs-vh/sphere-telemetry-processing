{
 "metadata": {
  "language_info": {
   "codemirror_mode": {
    "name": "ipython",
    "version": 3
   },
   "file_extension": ".py",
   "mimetype": "text/x-python",
   "name": "python",
   "nbconvert_exporter": "python",
   "pygments_lexer": "ipython3",
   "version": "3.8.5-final"
  },
  "orig_nbformat": 2,
  "kernelspec": {
   "name": "python38564bitteleenvvenvf703f4e3ea904cb18075354eca5dd04c",
   "display_name": "Python 3.8.5 64-bit ('teleenv': venv)"
  }
 },
 "nbformat": 4,
 "nbformat_minor": 2,
 "cells": [
  {
   "cell_type": "code",
   "execution_count": 15,
   "metadata": {},
   "outputs": [],
   "source": [
    "from pymongo import MongoClient\n",
    "from tqdm import tqdm\n",
    "from datetime import time, datetime, timedelta\n",
    "import pandas as pd\n",
    "\n",
    "client = MongoClient()\n",
    "ground_telemetry_collection = client.sphere_telemetry.from_ground_logs"
   ]
  },
  {
   "cell_type": "code",
   "execution_count": 16,
   "metadata": {},
   "outputs": [],
   "source": [
    "def gps_stamp_to_timedelta(stamp: int) -> timedelta:\n",
    "\tstamp = str(stamp).rjust(6, '0')\n",
    "\treturn timedelta(hours=int(stamp[:2]), minutes=int(stamp[2:4]), seconds=int(stamp[4:]))"
   ]
  },
  {
   "cell_type": "code",
   "execution_count": 22,
   "metadata": {},
   "outputs": [],
   "source": [
    "utc_tolerance = timedelta(hours = 0, seconds=120)\n",
    "\n",
    "def gps_time_day_switch(utc_time, prev_utc_time) -> bool:\n",
    "    return utc_time < prev_utc_time - utc_tolerance"
   ]
  },
  {
   "cell_type": "code",
   "execution_count": 23,
   "metadata": {
    "tags": []
   },
   "outputs": [
    {
     "output_type": "stream",
     "name": "stderr",
     "text": [
      "100%|██████████| 426293/426293 [00:05<00:00, 78840.33it/s]\n",
      "\n",
      "\n",
      "39 day switches found\n"
     ]
    }
   ],
   "source": [
    "def write_header():\n",
    "    f.write(f'i,\"switch_type\",\"local_change\",\"local_delta\",\"utc_change\",\"utc_delta\",\"new_utc_stamp\"\\n')\n",
    "\n",
    "def write_row(local_flag, utc_flag):\n",
    "    if not (local_flag or utc_flag):\n",
    "        return False\n",
    "    if local_flag:\n",
    "        if utc_flag:\n",
    "            type_ = 'both'\n",
    "        else:\n",
    "            type_ = 'local'\n",
    "    else:\n",
    "        type_ = 'utc'\n",
    "    row = (\n",
    "        f'{row_count},{type_},\"{prev_local_dt} -> {local_dt}\",\"{local_dt - prev_local_dt}\",'\n",
    "        + f'\"{prev_utc_time} -> {utc_time}\",\"{utc_time-prev_utc_time}\",\"{utc_timestamp}\"'\n",
    "    )\n",
    "    f.write(row + '\\n')\n",
    "    return True\n",
    "\n",
    "\n",
    "query = {\"GPS_stamp\": {\"$exists\": True}}\n",
    "total = ground_telemetry_collection.find(query).count()\n",
    "\n",
    "prev_local_dt = datetime.fromtimestamp(0)\n",
    "prev_utc_time = timedelta(hours=23, minutes=59, seconds=59)\n",
    "\n",
    "row_count = 0\n",
    "\n",
    "with open('day_switches.csv', 'w') as f:\n",
    "    write_header()\n",
    "    for doc in tqdm(\n",
    "        ground_telemetry_collection.find(query).sort(\"local_dt\"),\n",
    "        total=total\n",
    "    ):\n",
    "        local_dt = doc['local_dt']\n",
    "        utc_timestamp = doc['GPS_stamp']\n",
    "        utc_time = gps_stamp_to_timedelta(utc_timestamp)\n",
    "        \n",
    "        utc_time_switch = gps_time_day_switch(utc_time, prev_utc_time)\n",
    "        if write_row(local_dt.day != prev_local_dt.day, utc_time_switch):\n",
    "            row_count += 1\n",
    "\n",
    "        prev_local_dt = local_dt\n",
    "        prev_utc_time = utc_time\n",
    "\n",
    "print(f'\\n\\n{row_count} day switches found')\n"
   ]
  },
  {
   "source": [
    "Результат работы предыдущей ячейки выгружен [сюда](https://docs.google.com/spreadsheets/d/1wIniLV3XItgZoUVZ_wDRf4xhny8OmiRFmMkAfX3oLfE/edit#gid=1486757713&fvid=2114670170), вручную размечены правильные времена смены дат по UTC, далее первый лист из того же документа экспротирован в .csv и обрабатывается ниже."
   ],
   "cell_type": "markdown",
   "metadata": {}
  },
  {
   "cell_type": "code",
   "execution_count": 27,
   "metadata": {
    "tags": []
   },
   "outputs": [
    {
     "output_type": "stream",
     "name": "stderr",
     "text": [
      "102it [00:00, 622.03it/s]inserting UTC date 2012-03-13 00:00:00\n",
      "21332it [00:09, 2222.62it/s]\n",
      "0it [00:00, ?it/s]inserting UTC date 2012-03-14 00:00:00\n",
      "26180it [00:10, 2568.92it/s]\n",
      "102it [00:00, 604.98it/s]inserting UTC date 2012-03-15 00:00:00\n",
      "22807it [00:10, 2234.78it/s]\n",
      "0it [00:00, ?it/s]inserting UTC date 2012-03-16 00:00:00\n",
      "24542it [00:18, 1350.84it/s]\n",
      "0it [00:00, ?it/s]inserting UTC date 2012-03-17 00:00:00\n",
      "25630it [00:15, 1676.15it/s]\n",
      "0it [00:00, ?it/s]inserting UTC date 2012-03-18 00:00:00\n",
      "26172it [00:13, 1915.74it/s]\n",
      "0it [00:00, ?it/s]inserting UTC date 2012-03-19 00:00:00\n",
      "23595it [00:12, 1858.97it/s]\n",
      "0it [00:00, ?it/s]inserting UTC date 2012-03-20 00:00:00\n",
      "26196it [00:15, 1740.41it/s]\n",
      "0it [00:00, ?it/s]inserting UTC date 2012-03-21 00:00:00\n",
      "25444it [00:14, 1799.34it/s]\n",
      "0it [00:00, ?it/s]inserting UTC date 2012-03-22 00:00:00\n",
      "26182it [00:14, 1811.32it/s]\n",
      "0it [00:00, ?it/s]inserting UTC date 2012-03-23 00:00:00\n",
      "25936it [00:12, 2078.20it/s]\n",
      "0it [00:00, ?it/s]inserting UTC date 2012-03-24 00:00:00\n",
      "25278it [00:13, 1818.62it/s]\n",
      "0it [00:00, ?it/s]inserting UTC date 2012-03-25 00:00:00\n",
      "26192it [00:14, 1756.18it/s]\n",
      "0it [00:00, ?it/s]inserting UTC date 2012-03-26 00:00:00\n",
      "26149it [00:15, 1718.67it/s]\n",
      "102it [00:00, 593.16it/s]inserting UTC date 2012-03-27 00:00:00\n",
      "10880it [00:04, 2186.45it/s]\n",
      "102it [00:00, 869.91it/s]inserting UTC date 2013-03-06 00:00:00\n",
      "10749it [00:05, 2006.18it/s]\n",
      "102it [00:00, 911.25it/s]inserting UTC date 2013-03-07 00:00:00\n",
      "2316it [00:01, 2180.96it/s]\n",
      "102it [00:00, 675.80it/s]inserting UTC date 2013-03-09 00:00:00\n",
      "17016it [00:08, 1891.05it/s]\n",
      "0it [00:00, ?it/s]inserting UTC date 2013-03-10 00:00:00\n",
      "26157it [00:15, 1647.25it/s]\n",
      "122it [00:00, 1218.88it/s]inserting UTC date 2013-03-11 00:00:00\n",
      "5062it [00:02, 2013.38it/s]\n"
     ]
    }
   ],
   "source": [
    "df = pd.read_csv('../data/sphere-telemetry-day-switches - utc-dates-restored-2.csv')\n",
    "df_dict = df.to_dict('list')\n",
    "switch_local_dt = [datetime.strptime(dt_str, r'%Y-%m-%d %X') for dt_str in df_dict['local_dt']]\n",
    "new_utc_date = df_dict['new utc date']\n",
    "\n",
    "for idx, (start_ldt, end_ldt) in enumerate(\n",
    "    zip(switch_local_dt, [*switch_local_dt[1:], datetime.now()])\n",
    "):\n",
    "    utc_dt_base = datetime.strptime(new_utc_date[idx], r'%Y-%m-%d')\n",
    "    print(f'inserting UTC date {utc_dt_base}')\n",
    "\n",
    "    utc_date_query = {\"GPS_stamp\": {\"$exists\": True}, \"local_dt\": {\"$gte\": start_ldt, \"$lt\": end_ldt}}\n",
    "\n",
    "    total = onboard_telemetry_collection.find(utc_date_query).count()\n",
    "    for doc in tqdm(\n",
    "        ground_telemetry_collection.find(utc_date_query),\n",
    "        total=total\n",
    "    ):\n",
    "        utc_dt = utc_dt_base + gps_stamp_to_timedelta(doc['GPS_stamp'])\n",
    "        ground_telemetry_collection.update_one(\n",
    "            filter={\"local_dt\": doc[\"local_dt\"]},\n",
    "            update={\"$set\": {\"utc_dt\": utc_dt}}\n",
    "        )"
   ]
  }
 ]
}